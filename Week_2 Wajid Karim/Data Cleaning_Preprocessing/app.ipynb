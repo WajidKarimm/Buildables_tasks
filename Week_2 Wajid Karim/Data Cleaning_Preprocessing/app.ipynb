{
 "cells": [
  {
   "cell_type": "code",
   "execution_count": 383,
   "id": "0ad79df7",
   "metadata": {},
   "outputs": [],
   "source": [
    "import pandas as pd\n",
    "import numpy as np\n",
    "import matplotlib.pyplot as plt\n",
    "import seaborn as sns\n",
    "from datetime import datetime, timedelta\n",
    "import re\n",
    "import warnings\n",
    "from sklearn.preprocessing import StandardScaler, MinMaxScaler, LabelEncoder, OneHotEncoder\n",
    "from sklearn.feature_extraction.text import TfidfVectorizer, CountVectorizer\n",
    "import string\n",
    "from nltk.corpus import stopwords\n",
    "warnings.filterwarnings('ignore')\n"
   ]
  },
  {
   "cell_type": "code",
   "execution_count": 384,
   "id": "c8776762",
   "metadata": {},
   "outputs": [
    {
     "name": "stdout",
     "output_type": "stream",
     "text": [
      "Original Dataset:\n"
     ]
    },
    {
     "data": {
      "text/html": [
       "<div>\n",
       "<style scoped>\n",
       "    .dataframe tbody tr th:only-of-type {\n",
       "        vertical-align: middle;\n",
       "    }\n",
       "\n",
       "    .dataframe tbody tr th {\n",
       "        vertical-align: top;\n",
       "    }\n",
       "\n",
       "    .dataframe thead th {\n",
       "        text-align: right;\n",
       "    }\n",
       "</style>\n",
       "<table border=\"1\" class=\"dataframe\">\n",
       "  <thead>\n",
       "    <tr style=\"text-align: right;\">\n",
       "      <th></th>\n",
       "      <th>Name</th>\n",
       "      <th>Age</th>\n",
       "      <th>City</th>\n",
       "      <th>Salary</th>\n",
       "    </tr>\n",
       "  </thead>\n",
       "  <tbody>\n",
       "    <tr>\n",
       "      <th>0</th>\n",
       "      <td>Wajid</td>\n",
       "      <td>25.0</td>\n",
       "      <td>Lahore</td>\n",
       "      <td>50000.0</td>\n",
       "    </tr>\n",
       "    <tr>\n",
       "      <th>1</th>\n",
       "      <td>Ali</td>\n",
       "      <td>NaN</td>\n",
       "      <td>Karachi</td>\n",
       "      <td>60000.0</td>\n",
       "    </tr>\n",
       "    <tr>\n",
       "      <th>2</th>\n",
       "      <td>Mansoor</td>\n",
       "      <td>30.0</td>\n",
       "      <td>NaN</td>\n",
       "      <td>NaN</td>\n",
       "    </tr>\n",
       "    <tr>\n",
       "      <th>3</th>\n",
       "      <td>Zahid</td>\n",
       "      <td>22.0</td>\n",
       "      <td>Islamabad</td>\n",
       "      <td>55000.0</td>\n",
       "    </tr>\n",
       "    <tr>\n",
       "      <th>4</th>\n",
       "      <td>Wali</td>\n",
       "      <td>NaN</td>\n",
       "      <td>Quetta</td>\n",
       "      <td>58000.0</td>\n",
       "    </tr>\n",
       "  </tbody>\n",
       "</table>\n",
       "</div>"
      ],
      "text/plain": [
       "      Name   Age       City   Salary\n",
       "0    Wajid  25.0     Lahore  50000.0\n",
       "1      Ali   NaN    Karachi  60000.0\n",
       "2  Mansoor  30.0        NaN      NaN\n",
       "3    Zahid  22.0  Islamabad  55000.0\n",
       "4     Wali   NaN     Quetta  58000.0"
      ]
     },
     "execution_count": 384,
     "metadata": {},
     "output_type": "execute_result"
    }
   ],
   "source": [
    "# Handling Missing Values\n",
    "\n",
    "import pandas as pd\n",
    "import numpy as np\n",
    "\n",
    "# dataset with missing values\n",
    "data = {\n",
    "    \"Name\": [\"Wajid\", \"Ali\", \"Mansoor\", \"Zahid\", \"Wali\"],\n",
    "    \"Age\": [25, np.nan, 30, 22, np.nan],\n",
    "    \"City\": [\"Lahore\", \"Karachi\", np.nan, \"Islamabad\", \"Quetta\"],\n",
    "    \"Salary\": [50000, 60000, np.nan, 55000, 58000]\n",
    "}\n",
    "\n",
    "df = pd.DataFrame(data)\n",
    "print(\"Original Dataset:\")\n",
    "df\n"
   ]
  },
  {
   "cell_type": "code",
   "execution_count": 385,
   "id": "289059c3",
   "metadata": {},
   "outputs": [
    {
     "data": {
      "text/html": [
       "<div>\n",
       "<style scoped>\n",
       "    .dataframe tbody tr th:only-of-type {\n",
       "        vertical-align: middle;\n",
       "    }\n",
       "\n",
       "    .dataframe tbody tr th {\n",
       "        vertical-align: top;\n",
       "    }\n",
       "\n",
       "    .dataframe thead th {\n",
       "        text-align: right;\n",
       "    }\n",
       "</style>\n",
       "<table border=\"1\" class=\"dataframe\">\n",
       "  <thead>\n",
       "    <tr style=\"text-align: right;\">\n",
       "      <th></th>\n",
       "      <th>Name</th>\n",
       "      <th>Age</th>\n",
       "      <th>City</th>\n",
       "      <th>Salary</th>\n",
       "    </tr>\n",
       "  </thead>\n",
       "  <tbody>\n",
       "    <tr>\n",
       "      <th>0</th>\n",
       "      <td>Wajid</td>\n",
       "      <td>25.0</td>\n",
       "      <td>Lahore</td>\n",
       "      <td>50000.0</td>\n",
       "    </tr>\n",
       "    <tr>\n",
       "      <th>1</th>\n",
       "      <td>Ali</td>\n",
       "      <td>NaN</td>\n",
       "      <td>Karachi</td>\n",
       "      <td>60000.0</td>\n",
       "    </tr>\n",
       "    <tr>\n",
       "      <th>2</th>\n",
       "      <td>Mansoor</td>\n",
       "      <td>30.0</td>\n",
       "      <td>Gilgit</td>\n",
       "      <td>NaN</td>\n",
       "    </tr>\n",
       "    <tr>\n",
       "      <th>3</th>\n",
       "      <td>Zahid</td>\n",
       "      <td>22.0</td>\n",
       "      <td>Islamabad</td>\n",
       "      <td>55000.0</td>\n",
       "    </tr>\n",
       "    <tr>\n",
       "      <th>4</th>\n",
       "      <td>Wali</td>\n",
       "      <td>NaN</td>\n",
       "      <td>Quetta</td>\n",
       "      <td>58000.0</td>\n",
       "    </tr>\n",
       "  </tbody>\n",
       "</table>\n",
       "</div>"
      ],
      "text/plain": [
       "      Name   Age       City   Salary\n",
       "0    Wajid  25.0     Lahore  50000.0\n",
       "1      Ali   NaN    Karachi  60000.0\n",
       "2  Mansoor  30.0     Gilgit      NaN\n",
       "3    Zahid  22.0  Islamabad  55000.0\n",
       "4     Wali   NaN     Quetta  58000.0"
      ]
     },
     "execution_count": 385,
     "metadata": {},
     "output_type": "execute_result"
    }
   ],
   "source": [
    "# for single value to be filled\n",
    "df['City']=df['City'].fillna('Gilgit')\n",
    "df.head()"
   ]
  },
  {
   "cell_type": "code",
   "execution_count": 386,
   "id": "2eba4af5",
   "metadata": {},
   "outputs": [
    {
     "data": {
      "text/html": [
       "<div>\n",
       "<style scoped>\n",
       "    .dataframe tbody tr th:only-of-type {\n",
       "        vertical-align: middle;\n",
       "    }\n",
       "\n",
       "    .dataframe tbody tr th {\n",
       "        vertical-align: top;\n",
       "    }\n",
       "\n",
       "    .dataframe thead th {\n",
       "        text-align: right;\n",
       "    }\n",
       "</style>\n",
       "<table border=\"1\" class=\"dataframe\">\n",
       "  <thead>\n",
       "    <tr style=\"text-align: right;\">\n",
       "      <th></th>\n",
       "      <th>Name</th>\n",
       "      <th>Age</th>\n",
       "      <th>City</th>\n",
       "      <th>Salary</th>\n",
       "    </tr>\n",
       "  </thead>\n",
       "  <tbody>\n",
       "    <tr>\n",
       "      <th>0</th>\n",
       "      <td>Wajid</td>\n",
       "      <td>25.0</td>\n",
       "      <td>Lahore</td>\n",
       "      <td>50000.0</td>\n",
       "    </tr>\n",
       "    <tr>\n",
       "      <th>1</th>\n",
       "      <td>Ali</td>\n",
       "      <td>25.0</td>\n",
       "      <td>Karachi</td>\n",
       "      <td>60000.0</td>\n",
       "    </tr>\n",
       "    <tr>\n",
       "      <th>2</th>\n",
       "      <td>Mansoor</td>\n",
       "      <td>30.0</td>\n",
       "      <td>Gilgit</td>\n",
       "      <td>56500.0</td>\n",
       "    </tr>\n",
       "    <tr>\n",
       "      <th>3</th>\n",
       "      <td>Zahid</td>\n",
       "      <td>22.0</td>\n",
       "      <td>Islamabad</td>\n",
       "      <td>55000.0</td>\n",
       "    </tr>\n",
       "    <tr>\n",
       "      <th>4</th>\n",
       "      <td>Wali</td>\n",
       "      <td>25.0</td>\n",
       "      <td>Quetta</td>\n",
       "      <td>58000.0</td>\n",
       "    </tr>\n",
       "  </tbody>\n",
       "</table>\n",
       "</div>"
      ],
      "text/plain": [
       "      Name   Age       City   Salary\n",
       "0    Wajid  25.0     Lahore  50000.0\n",
       "1      Ali  25.0    Karachi  60000.0\n",
       "2  Mansoor  30.0     Gilgit  56500.0\n",
       "3    Zahid  22.0  Islamabad  55000.0\n",
       "4     Wali  25.0     Quetta  58000.0"
      ]
     },
     "execution_count": 386,
     "metadata": {},
     "output_type": "execute_result"
    }
   ],
   "source": [
    "# compute median-based values first \n",
    "age_median = df['Age'].median()\n",
    "Salary_median = df['Salary'].median()\n",
    "\n",
    "# for multple values\n",
    "df = df.fillna({\n",
    "    'City': 'Gilgit',\n",
    "    'Salary': Salary_median,\n",
    "    'Age': age_median,   \n",
    "       \n",
    "})\n",
    "df.head()\n"
   ]
  },
  {
   "cell_type": "code",
   "execution_count": 387,
   "id": "65f944d1",
   "metadata": {},
   "outputs": [],
   "source": [
    "# Replacing Values\n",
    "\n",
    "df['City'] = df['City'].replace('Lahore', 'Gilgit')\n",
    "df['Salary'] = df['Salary'].replace(0, df['Salary'].mean())"
   ]
  },
  {
   "cell_type": "code",
   "execution_count": 388,
   "id": "b5670d1d",
   "metadata": {},
   "outputs": [
    {
     "data": {
      "text/html": [
       "<div>\n",
       "<style scoped>\n",
       "    .dataframe tbody tr th:only-of-type {\n",
       "        vertical-align: middle;\n",
       "    }\n",
       "\n",
       "    .dataframe tbody tr th {\n",
       "        vertical-align: top;\n",
       "    }\n",
       "\n",
       "    .dataframe thead th {\n",
       "        text-align: right;\n",
       "    }\n",
       "</style>\n",
       "<table border=\"1\" class=\"dataframe\">\n",
       "  <thead>\n",
       "    <tr style=\"text-align: right;\">\n",
       "      <th></th>\n",
       "      <th>Name</th>\n",
       "      <th>Age</th>\n",
       "      <th>City</th>\n",
       "      <th>Salary</th>\n",
       "    </tr>\n",
       "  </thead>\n",
       "  <tbody>\n",
       "    <tr>\n",
       "      <th>0</th>\n",
       "      <td>Wajid</td>\n",
       "      <td>25.0</td>\n",
       "      <td>Gilgit</td>\n",
       "      <td>50000.0</td>\n",
       "    </tr>\n",
       "    <tr>\n",
       "      <th>1</th>\n",
       "      <td>Ali</td>\n",
       "      <td>25.0</td>\n",
       "      <td>Karachi</td>\n",
       "      <td>60000.0</td>\n",
       "    </tr>\n",
       "    <tr>\n",
       "      <th>2</th>\n",
       "      <td>Mansoor</td>\n",
       "      <td>30.0</td>\n",
       "      <td>Gilgit</td>\n",
       "      <td>56500.0</td>\n",
       "    </tr>\n",
       "    <tr>\n",
       "      <th>3</th>\n",
       "      <td>Zahid</td>\n",
       "      <td>22.0</td>\n",
       "      <td>Islamabad</td>\n",
       "      <td>55000.0</td>\n",
       "    </tr>\n",
       "    <tr>\n",
       "      <th>4</th>\n",
       "      <td>Wali</td>\n",
       "      <td>25.0</td>\n",
       "      <td>Quetta</td>\n",
       "      <td>58000.0</td>\n",
       "    </tr>\n",
       "  </tbody>\n",
       "</table>\n",
       "</div>"
      ],
      "text/plain": [
       "      Name   Age       City   Salary\n",
       "0    Wajid  25.0     Gilgit  50000.0\n",
       "1      Ali  25.0    Karachi  60000.0\n",
       "2  Mansoor  30.0     Gilgit  56500.0\n",
       "3    Zahid  22.0  Islamabad  55000.0\n",
       "4     Wali  25.0     Quetta  58000.0"
      ]
     },
     "execution_count": 388,
     "metadata": {},
     "output_type": "execute_result"
    }
   ],
   "source": [
    "# Detecting/Filtering Missing Data\n",
    "\n",
    "df[df['City'].isna()]    \n",
    "df[df['Age'].notna()] "
   ]
  },
  {
   "cell_type": "code",
   "execution_count": 389,
   "id": "3ad53369",
   "metadata": {},
   "outputs": [],
   "source": [
    "# For rows\n",
    "\n",
    "df = df[df['Name'] != 'Wajid']"
   ]
  },
  {
   "cell_type": "code",
   "execution_count": 390,
   "id": "51c72984",
   "metadata": {},
   "outputs": [
    {
     "data": {
      "text/html": [
       "<div>\n",
       "<style scoped>\n",
       "    .dataframe tbody tr th:only-of-type {\n",
       "        vertical-align: middle;\n",
       "    }\n",
       "\n",
       "    .dataframe tbody tr th {\n",
       "        vertical-align: top;\n",
       "    }\n",
       "\n",
       "    .dataframe thead th {\n",
       "        text-align: right;\n",
       "    }\n",
       "</style>\n",
       "<table border=\"1\" class=\"dataframe\">\n",
       "  <thead>\n",
       "    <tr style=\"text-align: right;\">\n",
       "      <th></th>\n",
       "      <th>Name</th>\n",
       "      <th>Age</th>\n",
       "      <th>City</th>\n",
       "      <th>Salary</th>\n",
       "    </tr>\n",
       "  </thead>\n",
       "  <tbody>\n",
       "    <tr>\n",
       "      <th>1</th>\n",
       "      <td>Ali</td>\n",
       "      <td>25.0</td>\n",
       "      <td>Karachi</td>\n",
       "      <td>60000.0</td>\n",
       "    </tr>\n",
       "    <tr>\n",
       "      <th>2</th>\n",
       "      <td>Mansoor</td>\n",
       "      <td>30.0</td>\n",
       "      <td>Gilgit</td>\n",
       "      <td>56500.0</td>\n",
       "    </tr>\n",
       "    <tr>\n",
       "      <th>3</th>\n",
       "      <td>Zahid</td>\n",
       "      <td>22.0</td>\n",
       "      <td>Islamabad</td>\n",
       "      <td>55000.0</td>\n",
       "    </tr>\n",
       "    <tr>\n",
       "      <th>4</th>\n",
       "      <td>Wali</td>\n",
       "      <td>25.0</td>\n",
       "      <td>Quetta</td>\n",
       "      <td>58000.0</td>\n",
       "    </tr>\n",
       "  </tbody>\n",
       "</table>\n",
       "</div>"
      ],
      "text/plain": [
       "      Name   Age       City   Salary\n",
       "1      Ali  25.0    Karachi  60000.0\n",
       "2  Mansoor  30.0     Gilgit  56500.0\n",
       "3    Zahid  22.0  Islamabad  55000.0\n",
       "4     Wali  25.0     Quetta  58000.0"
      ]
     },
     "execution_count": 390,
     "metadata": {},
     "output_type": "execute_result"
    }
   ],
   "source": [
    "df.head()"
   ]
  },
  {
   "cell_type": "code",
   "execution_count": 391,
   "id": "a0f6473c",
   "metadata": {},
   "outputs": [],
   "source": [
    "# for multple to drop\n",
    "\n",
    "df = df.drop(df[(df['Name'] == 'Wajid') &\n",
    "                (df['Age'] == 25.0) &\n",
    "                (df['City'] == 'Lahore') &\n",
    "                (df['Salary'] == 50000.0)].index)\n"
   ]
  },
  {
   "cell_type": "code",
   "execution_count": 392,
   "id": "5bd2a328",
   "metadata": {},
   "outputs": [
    {
     "data": {
      "text/plain": [
       "Index(['Name', 'Age', 'City', 'Salary'], dtype='object')"
      ]
     },
     "execution_count": 392,
     "metadata": {},
     "output_type": "execute_result"
    }
   ],
   "source": [
    "df.columns"
   ]
  },
  {
   "cell_type": "code",
   "execution_count": 393,
   "id": "d3893ecd",
   "metadata": {},
   "outputs": [],
   "source": [
    "# drop columns for single columns \n",
    "df=df.drop(columns=['City'])\n"
   ]
  },
  {
   "cell_type": "code",
   "execution_count": 394,
   "id": "bc889d6a",
   "metadata": {},
   "outputs": [
    {
     "data": {
      "text/html": [
       "<div>\n",
       "<style scoped>\n",
       "    .dataframe tbody tr th:only-of-type {\n",
       "        vertical-align: middle;\n",
       "    }\n",
       "\n",
       "    .dataframe tbody tr th {\n",
       "        vertical-align: top;\n",
       "    }\n",
       "\n",
       "    .dataframe thead th {\n",
       "        text-align: right;\n",
       "    }\n",
       "</style>\n",
       "<table border=\"1\" class=\"dataframe\">\n",
       "  <thead>\n",
       "    <tr style=\"text-align: right;\">\n",
       "      <th></th>\n",
       "      <th>Name</th>\n",
       "      <th>Age</th>\n",
       "      <th>Salary</th>\n",
       "    </tr>\n",
       "  </thead>\n",
       "  <tbody>\n",
       "    <tr>\n",
       "      <th>1</th>\n",
       "      <td>Ali</td>\n",
       "      <td>25.0</td>\n",
       "      <td>60000.0</td>\n",
       "    </tr>\n",
       "    <tr>\n",
       "      <th>2</th>\n",
       "      <td>Mansoor</td>\n",
       "      <td>30.0</td>\n",
       "      <td>56500.0</td>\n",
       "    </tr>\n",
       "    <tr>\n",
       "      <th>3</th>\n",
       "      <td>Zahid</td>\n",
       "      <td>22.0</td>\n",
       "      <td>55000.0</td>\n",
       "    </tr>\n",
       "    <tr>\n",
       "      <th>4</th>\n",
       "      <td>Wali</td>\n",
       "      <td>25.0</td>\n",
       "      <td>58000.0</td>\n",
       "    </tr>\n",
       "  </tbody>\n",
       "</table>\n",
       "</div>"
      ],
      "text/plain": [
       "      Name   Age   Salary\n",
       "1      Ali  25.0  60000.0\n",
       "2  Mansoor  30.0  56500.0\n",
       "3    Zahid  22.0  55000.0\n",
       "4     Wali  25.0  58000.0"
      ]
     },
     "execution_count": 394,
     "metadata": {},
     "output_type": "execute_result"
    }
   ],
   "source": [
    "df.head()"
   ]
  },
  {
   "cell_type": "code",
   "execution_count": 395,
   "id": "6740189e",
   "metadata": {},
   "outputs": [],
   "source": [
    "# for Multple Coloumns\n",
    "\n",
    "df = df.drop(['Age', 'Name'], axis=1)"
   ]
  },
  {
   "cell_type": "code",
   "execution_count": 396,
   "id": "9f54ca78",
   "metadata": {},
   "outputs": [
    {
     "data": {
      "text/html": [
       "<div>\n",
       "<style scoped>\n",
       "    .dataframe tbody tr th:only-of-type {\n",
       "        vertical-align: middle;\n",
       "    }\n",
       "\n",
       "    .dataframe tbody tr th {\n",
       "        vertical-align: top;\n",
       "    }\n",
       "\n",
       "    .dataframe thead th {\n",
       "        text-align: right;\n",
       "    }\n",
       "</style>\n",
       "<table border=\"1\" class=\"dataframe\">\n",
       "  <thead>\n",
       "    <tr style=\"text-align: right;\">\n",
       "      <th></th>\n",
       "      <th>Salary</th>\n",
       "    </tr>\n",
       "  </thead>\n",
       "  <tbody>\n",
       "    <tr>\n",
       "      <th>1</th>\n",
       "      <td>60000.0</td>\n",
       "    </tr>\n",
       "    <tr>\n",
       "      <th>2</th>\n",
       "      <td>56500.0</td>\n",
       "    </tr>\n",
       "    <tr>\n",
       "      <th>3</th>\n",
       "      <td>55000.0</td>\n",
       "    </tr>\n",
       "    <tr>\n",
       "      <th>4</th>\n",
       "      <td>58000.0</td>\n",
       "    </tr>\n",
       "  </tbody>\n",
       "</table>\n",
       "</div>"
      ],
      "text/plain": [
       "    Salary\n",
       "1  60000.0\n",
       "2  56500.0\n",
       "3  55000.0\n",
       "4  58000.0"
      ]
     },
     "execution_count": 396,
     "metadata": {},
     "output_type": "execute_result"
    }
   ],
   "source": [
    "df.head()"
   ]
  },
  {
   "cell_type": "code",
   "execution_count": 397,
   "id": "c078e91d",
   "metadata": {},
   "outputs": [],
   "source": [
    "# Interpolating Values\n",
    "\n",
    "df = pd.DataFrame({\n",
    "    'Day': [1, 2, 3, 4, 5, 6],\n",
    "    'Temperature': [30, None, 32, None, 35, 36]\n",
    "})"
   ]
  },
  {
   "cell_type": "code",
   "execution_count": 398,
   "id": "f29f0c09",
   "metadata": {},
   "outputs": [
    {
     "name": "stdout",
     "output_type": "stream",
     "text": [
      "Before Interpolation:\n",
      "    Day  Temperature\n",
      "0    1         30.0\n",
      "1    2          NaN\n",
      "2    3         32.0\n",
      "3    4          NaN\n",
      "4    5         35.0\n",
      "5    6         36.0\n",
      "\n",
      "After Interpolation:\n",
      "    Day  Temperature\n",
      "0    1         30.0\n",
      "1    2         31.0\n",
      "2    3         32.0\n",
      "3    4         33.5\n",
      "4    5         35.0\n",
      "5    6         36.0\n"
     ]
    }
   ],
   "source": [
    "print(\"Before Interpolation:\\n\", df)\n",
    "\n",
    "df['Temperature'] = df['Temperature'].interpolate()\n",
    "\n",
    "print(\"\\nAfter Interpolation:\\n\", df)"
   ]
  },
  {
   "cell_type": "code",
   "execution_count": 399,
   "id": "306bddae",
   "metadata": {},
   "outputs": [
    {
     "data": {
      "text/plain": [
       "0    30.0\n",
       "1    31.0\n",
       "2    32.0\n",
       "3    33.5\n",
       "4    35.0\n",
       "5    36.0\n",
       "Name: Temperature, dtype: float64"
      ]
     },
     "execution_count": 399,
     "metadata": {},
     "output_type": "execute_result"
    }
   ],
   "source": [
    "# Forward/Backward Limit\n",
    "\n",
    "df['Temperature'].interpolate(limit=1)   # fill only 1 NaN at a time\n"
   ]
  },
  {
   "cell_type": "code",
   "execution_count": 400,
   "id": "acd3a1e5",
   "metadata": {},
   "outputs": [],
   "source": [
    "# Interpolation on Time Series\n",
    "\n",
    "date_rng = pd.date_range(start='2025-01-01', periods=6, freq='D')\n",
    "df = pd.DataFrame({'Date': date_rng, 'Value': [10, None, 30, None, None, 60]})\n",
    "df.set_index('Date', inplace=True)\n",
    "\n",
    "df['Value'] = df['Value'].interpolate(method='time')\n"
   ]
  },
  {
   "cell_type": "code",
   "execution_count": 401,
   "id": "211adb8d",
   "metadata": {},
   "outputs": [
    {
     "data": {
      "text/html": [
       "<div>\n",
       "<style scoped>\n",
       "    .dataframe tbody tr th:only-of-type {\n",
       "        vertical-align: middle;\n",
       "    }\n",
       "\n",
       "    .dataframe tbody tr th {\n",
       "        vertical-align: top;\n",
       "    }\n",
       "\n",
       "    .dataframe thead th {\n",
       "        text-align: right;\n",
       "    }\n",
       "</style>\n",
       "<table border=\"1\" class=\"dataframe\">\n",
       "  <thead>\n",
       "    <tr style=\"text-align: right;\">\n",
       "      <th></th>\n",
       "      <th>Value</th>\n",
       "    </tr>\n",
       "    <tr>\n",
       "      <th>Date</th>\n",
       "      <th></th>\n",
       "    </tr>\n",
       "  </thead>\n",
       "  <tbody>\n",
       "    <tr>\n",
       "      <th>2025-01-01</th>\n",
       "      <td>10.0</td>\n",
       "    </tr>\n",
       "    <tr>\n",
       "      <th>2025-01-02</th>\n",
       "      <td>20.0</td>\n",
       "    </tr>\n",
       "    <tr>\n",
       "      <th>2025-01-03</th>\n",
       "      <td>30.0</td>\n",
       "    </tr>\n",
       "    <tr>\n",
       "      <th>2025-01-04</th>\n",
       "      <td>40.0</td>\n",
       "    </tr>\n",
       "    <tr>\n",
       "      <th>2025-01-05</th>\n",
       "      <td>50.0</td>\n",
       "    </tr>\n",
       "  </tbody>\n",
       "</table>\n",
       "</div>"
      ],
      "text/plain": [
       "            Value\n",
       "Date             \n",
       "2025-01-01   10.0\n",
       "2025-01-02   20.0\n",
       "2025-01-03   30.0\n",
       "2025-01-04   40.0\n",
       "2025-01-05   50.0"
      ]
     },
     "execution_count": 401,
     "metadata": {},
     "output_type": "execute_result"
    }
   ],
   "source": [
    "df.head()"
   ]
  },
  {
   "cell_type": "markdown",
   "id": "2b219181",
   "metadata": {},
   "source": [
    "From above observaation:\n",
    "\n",
    "interpolation estimates missing values using surrounding data points in a time-aware linear fashion."
   ]
  },
  {
   "cell_type": "code",
   "execution_count": 402,
   "id": "14376e59",
   "metadata": {},
   "outputs": [
    {
     "name": "stdout",
     "output_type": "stream",
     "text": [
      "signup_date    datetime64[ns]\n",
      "last_login     datetime64[ns]\n",
      "dtype: object\n"
     ]
    },
    {
     "data": {
      "text/html": [
       "<div>\n",
       "<style scoped>\n",
       "    .dataframe tbody tr th:only-of-type {\n",
       "        vertical-align: middle;\n",
       "    }\n",
       "\n",
       "    .dataframe tbody tr th {\n",
       "        vertical-align: top;\n",
       "    }\n",
       "\n",
       "    .dataframe thead th {\n",
       "        text-align: right;\n",
       "    }\n",
       "</style>\n",
       "<table border=\"1\" class=\"dataframe\">\n",
       "  <thead>\n",
       "    <tr style=\"text-align: right;\">\n",
       "      <th></th>\n",
       "      <th>signup_date</th>\n",
       "      <th>last_login</th>\n",
       "    </tr>\n",
       "  </thead>\n",
       "  <tbody>\n",
       "    <tr>\n",
       "      <th>0</th>\n",
       "      <td>2025-01-01</td>\n",
       "      <td>2025-02-01</td>\n",
       "    </tr>\n",
       "    <tr>\n",
       "      <th>1</th>\n",
       "      <td>2025-01-02</td>\n",
       "      <td>2025-02-02</td>\n",
       "    </tr>\n",
       "    <tr>\n",
       "      <th>2</th>\n",
       "      <td>2025-01-03</td>\n",
       "      <td>2025-02-03</td>\n",
       "    </tr>\n",
       "  </tbody>\n",
       "</table>\n",
       "</div>"
      ],
      "text/plain": [
       "  signup_date last_login\n",
       "0  2025-01-01 2025-02-01\n",
       "1  2025-01-02 2025-02-02\n",
       "2  2025-01-03 2025-02-03"
      ]
     },
     "execution_count": 402,
     "metadata": {},
     "output_type": "execute_result"
    }
   ],
   "source": [
    "# Convert to DateTime\n",
    "\n",
    "import pandas as pd  \n",
    "\n",
    "df = pd.DataFrame({\n",
    "    'signup_date': ['2025-01-01', '2025-01-02', '2025-01-03'],\n",
    "    'last_login': ['01-02-2025', '02-02-2025', '03-02-2025']  # Different format\n",
    "})\n",
    "\n",
    "# Convert both to datetime\n",
    "df['signup_date'] = pd.to_datetime(df['signup_date'])\n",
    "df['last_login'] = pd.to_datetime(df['last_login'], format='%d-%m-%Y')\n",
    "\n",
    "print(df.dtypes)\n",
    "df\n",
    "\n",
    "# Point to note here: Converts string dates into real datetime objects\n",
    "# now you can calculate differences, sorting, filtering by time.\n"
   ]
  },
  {
   "cell_type": "code",
   "execution_count": 403,
   "id": "19b37be2",
   "metadata": {},
   "outputs": [
    {
     "name": "stdout",
     "output_type": "stream",
     "text": [
      "Price    float64\n",
      "dtype: object\n"
     ]
    },
    {
     "data": {
      "text/html": [
       "<div>\n",
       "<style scoped>\n",
       "    .dataframe tbody tr th:only-of-type {\n",
       "        vertical-align: middle;\n",
       "    }\n",
       "\n",
       "    .dataframe tbody tr th {\n",
       "        vertical-align: top;\n",
       "    }\n",
       "\n",
       "    .dataframe thead th {\n",
       "        text-align: right;\n",
       "    }\n",
       "</style>\n",
       "<table border=\"1\" class=\"dataframe\">\n",
       "  <thead>\n",
       "    <tr style=\"text-align: right;\">\n",
       "      <th></th>\n",
       "      <th>Price</th>\n",
       "    </tr>\n",
       "  </thead>\n",
       "  <tbody>\n",
       "    <tr>\n",
       "      <th>0</th>\n",
       "      <td>1000.0</td>\n",
       "    </tr>\n",
       "    <tr>\n",
       "      <th>1</th>\n",
       "      <td>2500.0</td>\n",
       "    </tr>\n",
       "    <tr>\n",
       "      <th>2</th>\n",
       "      <td>3000.0</td>\n",
       "    </tr>\n",
       "  </tbody>\n",
       "</table>\n",
       "</div>"
      ],
      "text/plain": [
       "    Price\n",
       "0  1000.0\n",
       "1  2500.0\n",
       "2  3000.0"
      ]
     },
     "execution_count": 403,
     "metadata": {},
     "output_type": "execute_result"
    }
   ],
   "source": [
    "# Convert to Numeric Sometimes numbers come as strings ( with currency symbols, commas).\n",
    "\n",
    "df = pd.DataFrame(\n",
    "    {\n",
    "        'Price': ['1000', '2500', '3000']\n",
    "    }\n",
    ")\n",
    "\n",
    "# Remove commas and convert \n",
    "df['Price']=df['Price'].str.replace(',', '').astype(float)\n",
    "\n",
    "print(df.dtypes)\n",
    "df                                                "
   ]
  },
  {
   "cell_type": "code",
   "execution_count": 404,
   "id": "036b2111",
   "metadata": {},
   "outputs": [
    {
     "name": "stdout",
     "output_type": "stream",
     "text": [
      "<class 'numpy.float64'>\n"
     ]
    }
   ],
   "source": [
    "print(type(df['Price'][0]))\n"
   ]
  },
  {
   "cell_type": "code",
   "execution_count": 424,
   "id": "38af33d8",
   "metadata": {},
   "outputs": [
    {
     "data": {
      "text/plain": [
       "Age        int64\n",
       "Salary     int64\n",
       "City      object\n",
       "Gender    object\n",
       "dtype: object"
      ]
     },
     "execution_count": 424,
     "metadata": {},
     "output_type": "execute_result"
    }
   ],
   "source": [
    "df = pd.DataFrame({\n",
    "    \"Age\": [25, 30, 22, 28],\n",
    "    \"Salary\": [50000, 60000, 55000, 58000],\n",
    "    \"City\": [\"Lahore\", \"Karachi\", \"Gilgit\", \"Islamabad\"],\n",
    "    \"Gender\": [\"M\", \"F\", \"M\", \"F\"]\n",
    "})\n",
    "\n",
    "df.dtypes"
   ]
  },
  {
   "cell_type": "code",
   "execution_count": 425,
   "id": "e5ff6642",
   "metadata": {},
   "outputs": [
    {
     "data": {
      "text/html": [
       "<div>\n",
       "<style scoped>\n",
       "    .dataframe tbody tr th:only-of-type {\n",
       "        vertical-align: middle;\n",
       "    }\n",
       "\n",
       "    .dataframe tbody tr th {\n",
       "        vertical-align: top;\n",
       "    }\n",
       "\n",
       "    .dataframe thead th {\n",
       "        text-align: right;\n",
       "    }\n",
       "</style>\n",
       "<table border=\"1\" class=\"dataframe\">\n",
       "  <thead>\n",
       "    <tr style=\"text-align: right;\">\n",
       "      <th></th>\n",
       "      <th>City</th>\n",
       "      <th>Gender</th>\n",
       "    </tr>\n",
       "  </thead>\n",
       "  <tbody>\n",
       "    <tr>\n",
       "      <th>0</th>\n",
       "      <td>Lahore</td>\n",
       "      <td>M</td>\n",
       "    </tr>\n",
       "    <tr>\n",
       "      <th>1</th>\n",
       "      <td>Karachi</td>\n",
       "      <td>F</td>\n",
       "    </tr>\n",
       "    <tr>\n",
       "      <th>2</th>\n",
       "      <td>Gilgit</td>\n",
       "      <td>M</td>\n",
       "    </tr>\n",
       "    <tr>\n",
       "      <th>3</th>\n",
       "      <td>Islamabad</td>\n",
       "      <td>F</td>\n",
       "    </tr>\n",
       "  </tbody>\n",
       "</table>\n",
       "</div>"
      ],
      "text/plain": [
       "        City Gender\n",
       "0     Lahore      M\n",
       "1    Karachi      F\n",
       "2     Gilgit      M\n",
       "3  Islamabad      F"
      ]
     },
     "execution_count": 425,
     "metadata": {},
     "output_type": "execute_result"
    }
   ],
   "source": [
    "# for categorical features\n",
    "\n",
    "categorical_cols = df.select_dtypes(include=['object','category']).columns.tolist()\n",
    "categorical_df = df[categorical_cols]\n",
    "categorical_df\n"
   ]
  },
  {
   "cell_type": "code",
   "execution_count": 430,
   "id": "8986f46d",
   "metadata": {},
   "outputs": [
    {
     "name": "stdout",
     "output_type": "stream",
     "text": [
      "Numeric Columns: ['Age', 'Salary']\n"
     ]
    },
    {
     "data": {
      "text/html": [
       "<div>\n",
       "<style scoped>\n",
       "    .dataframe tbody tr th:only-of-type {\n",
       "        vertical-align: middle;\n",
       "    }\n",
       "\n",
       "    .dataframe tbody tr th {\n",
       "        vertical-align: top;\n",
       "    }\n",
       "\n",
       "    .dataframe thead th {\n",
       "        text-align: right;\n",
       "    }\n",
       "</style>\n",
       "<table border=\"1\" class=\"dataframe\">\n",
       "  <thead>\n",
       "    <tr style=\"text-align: right;\">\n",
       "      <th></th>\n",
       "      <th>Age</th>\n",
       "      <th>Salary</th>\n",
       "    </tr>\n",
       "  </thead>\n",
       "  <tbody>\n",
       "    <tr>\n",
       "      <th>0</th>\n",
       "      <td>25</td>\n",
       "      <td>50000</td>\n",
       "    </tr>\n",
       "    <tr>\n",
       "      <th>1</th>\n",
       "      <td>30</td>\n",
       "      <td>60000</td>\n",
       "    </tr>\n",
       "    <tr>\n",
       "      <th>2</th>\n",
       "      <td>22</td>\n",
       "      <td>55000</td>\n",
       "    </tr>\n",
       "    <tr>\n",
       "      <th>3</th>\n",
       "      <td>28</td>\n",
       "      <td>58000</td>\n",
       "    </tr>\n",
       "  </tbody>\n",
       "</table>\n",
       "</div>"
      ],
      "text/plain": [
       "   Age  Salary\n",
       "0   25   50000\n",
       "1   30   60000\n",
       "2   22   55000\n",
       "3   28   58000"
      ]
     },
     "execution_count": 430,
     "metadata": {},
     "output_type": "execute_result"
    }
   ],
   "source": [
    "# for Numerical features\n",
    "numeric_cols = df.select_dtypes(include='number').columns.tolist()\n",
    "print(\"Numeric Columns:\", numeric_cols)\n",
    "\n",
    "numeric_df = df[numeric_cols]\n",
    "numeric_df\n"
   ]
  },
  {
   "cell_type": "code",
   "execution_count": 433,
   "id": "66e5686d",
   "metadata": {},
   "outputs": [
    {
     "data": {
      "text/plain": [
       "Age         int64\n",
       "Salary    float64\n",
       "dtype: object"
      ]
     },
     "execution_count": 433,
     "metadata": {},
     "output_type": "execute_result"
    }
   ],
   "source": [
    "# for multiple columns ]\n",
    "\n",
    "df = pd.DataFrame({\n",
    "    'Age': ['23','34','22'],\n",
    "    'Salary':['2300','34000','4300']\n",
    "})\n",
    "\n",
    "df=df.astype({'Age':'int', 'Salary':'float'})\n",
    "df.dtypes"
   ]
  },
  {
   "cell_type": "code",
   "execution_count": 434,
   "id": "2ff039cd",
   "metadata": {},
   "outputs": [
    {
     "name": "stdout",
     "output_type": "stream",
     "text": [
      "<class 'numpy.float64'>\n"
     ]
    }
   ],
   "source": [
    "print(type(df['Salary'][0]))"
   ]
  },
  {
   "cell_type": "code",
   "execution_count": null,
   "id": "6069a6f8",
   "metadata": {},
   "outputs": [
    {
     "data": {
      "text/html": [
       "<div>\n",
       "<style scoped>\n",
       "    .dataframe tbody tr th:only-of-type {\n",
       "        vertical-align: middle;\n",
       "    }\n",
       "\n",
       "    .dataframe tbody tr th {\n",
       "        vertical-align: top;\n",
       "    }\n",
       "\n",
       "    .dataframe thead th {\n",
       "        text-align: right;\n",
       "    }\n",
       "</style>\n",
       "<table border=\"1\" class=\"dataframe\">\n",
       "  <thead>\n",
       "    <tr style=\"text-align: right;\">\n",
       "      <th></th>\n",
       "      <th>Review</th>\n",
       "      <th>cleaned_Review`</th>\n",
       "    </tr>\n",
       "  </thead>\n",
       "  <tbody>\n",
       "    <tr>\n",
       "      <th>0</th>\n",
       "      <td>&lt;p&gt;This is &lt;b&gt;awesome&lt;/b&gt; product!&lt;/p&gt;</td>\n",
       "      <td>This is awesome product!</td>\n",
       "    </tr>\n",
       "    <tr>\n",
       "      <th>1</th>\n",
       "      <td>&lt;div&gt;Very &lt;i&gt;bad&lt;/i&gt; experience&lt;/div&gt;</td>\n",
       "      <td>Very bad experience</td>\n",
       "    </tr>\n",
       "  </tbody>\n",
       "</table>\n",
       "</div>"
      ],
      "text/plain": [
       "                                   Review           cleaned_Review`\n",
       "0  <p>This is <b>awesome</b> product!</p>  This is awesome product!\n",
       "1   <div>Very <i>bad</i> experience</div>       Very bad experience"
      ]
     },
     "execution_count": 438,
     "metadata": {},
     "output_type": "execute_result"
    }
   ],
   "source": [
    "from bs4 import BeautifulSoup\n",
    "\n",
    "df = pd.DataFrame({\n",
    "    'Review': [\n",
    "        \"<p>This is <b>awesome</b> product!</p>\",\n",
    "        \"<div>Very <i>bad</i> experience</div>\"\n",
    "    ]\n",
    "})\n",
    "\n",
    "\n",
    "# Remove HTMl Tags\n",
    "\n",
    "df['cleaned_Review`']=df['Review'].apply(lambda x: BeautifulSoup(x, \"html.parser\").get_text())\n",
    "\n",
    "df "
   ]
  },
  {
   "cell_type": "code",
   "execution_count": 442,
   "id": "b9ce816b",
   "metadata": {},
   "outputs": [
    {
     "name": "stderr",
     "output_type": "stream",
     "text": [
      "[nltk_data] Downloading package punkt to\n",
      "[nltk_data]     C:\\Users\\Wajid\\AppData\\Roaming\\nltk_data...\n",
      "[nltk_data]   Package punkt is already up-to-date!\n",
      "[nltk_data] Downloading package stopwords to\n",
      "[nltk_data]     C:\\Users\\Wajid\\AppData\\Roaming\\nltk_data...\n",
      "[nltk_data]   Package stopwords is already up-to-date!\n"
     ]
    },
    {
     "data": {
      "text/plain": [
       "('After:',\n",
       " ['example',\n",
       "  'text',\n",
       "  'cleaning',\n",
       "  'stopwords',\n",
       "  ',',\n",
       "  'Wajid',\n",
       "  'gilgit',\n",
       "  'removing',\n",
       "  'stopword'])"
      ]
     },
     "execution_count": 442,
     "metadata": {},
     "output_type": "execute_result"
    }
   ],
   "source": [
    "import nltk\n",
    "from nltk.corpus import stopwords\n",
    "from nltk.tokenize import word_tokenize\n",
    "\n",
    "nltk.download('punkt')\n",
    "nltk.download('stopwords')\n",
    "\n",
    "text = \"This is an example of text cleaning with stopwords, This is me Wajid and i am from gilgit and this for removing stopword\"\n",
    "\n",
    "# Tokenize the text\n",
    "words = word_tokenize(text)\n",
    "\n",
    "# Remove stopwords\n",
    "filtered = [w for w in words if w.lower() not in stopwords.words('english')]\n",
    "\n",
    "(\"Before:\", words)\n",
    "(\"After:\", filtered)\n"
   ]
  },
  {
   "cell_type": "code",
   "execution_count": 446,
   "id": "fd0c4816",
   "metadata": {},
   "outputs": [
    {
     "name": "stdout",
     "output_type": "stream",
     "text": [
      "Hello How are you i hope you doing good\n"
     ]
    }
   ],
   "source": [
    "# Punctuation Removal\n",
    "\n",
    "import string\n",
    "\n",
    "text = \"Hello!! How are you?? i hope, you doing good@..\"\n",
    "\n",
    "# Remove all punctuation\n",
    "clean_text = text.translate(str.maketrans('', '', string.punctuation))\n",
    "\n",
    "print(clean_text)\n"
   ]
  },
  {
   "cell_type": "code",
   "execution_count": 448,
   "id": "ce90aee9",
   "metadata": {},
   "outputs": [
    {
     "name": "stdout",
     "output_type": "stream",
     "text": [
      "['run', 'end', 'play', 'fair']\n"
     ]
    }
   ],
   "source": [
    "# Stemming \n",
    "\n",
    "from nltk.stem import PorterStemmer\n",
    "\n",
    "Stemmer=PorterStemmer()\n",
    "words=['running','ending','playing','fairness']\n",
    "stem=[Stemmer.stem(w) for w in words]\n",
    "print(stem)"
   ]
  },
  {
   "cell_type": "code",
   "execution_count": null,
   "id": "53b2ea6e",
   "metadata": {},
   "outputs": [
    {
     "name": "stderr",
     "output_type": "stream",
     "text": [
      "[nltk_data] Downloading package wordnet to\n",
      "[nltk_data]     C:\\Users\\Wajid\\AppData\\Roaming\\nltk_data...\n",
      "[nltk_data]   Package wordnet is already up-to-date!\n"
     ]
    },
    {
     "data": {
      "text/plain": [
       "['run', 'runner', 'easily', 'fairness']"
      ]
     },
     "execution_count": 454,
     "metadata": {},
     "output_type": "execute_result"
    }
   ],
   "source": [
    "from nltk.stem import WordNetLemmatizer\n",
    "nltk.download('wordnet')\n",
    "\n",
    "lemmatizer = WordNetLemmatizer()\n",
    "words = [\"running\", \"runner\", \"easily\", \"fairness\"]\n",
    "lemmas = [lemmatizer.lemmatize(w, pos='v') for w in words]  # 'v' for verb\n",
    "(lemmas)\n",
    "\n",
    "# Typically, the pipeline is:\n",
    "# Text → Remove punctuation → Lowercase → Stopword removal → Stemming/Lemmatization → Vectorization"
   ]
  },
  {
   "cell_type": "code",
   "execution_count": 455,
   "id": "e0d36bd0",
   "metadata": {},
   "outputs": [
    {
     "name": "stdout",
     "output_type": "stream",
     "text": [
      "['amazing' 'is' 'learning' 'love' 'machine']\n",
      "[[0 0 1 1 1]\n",
      " [1 1 1 0 1]]\n"
     ]
    }
   ],
   "source": [
    "# Since machine can not directly understand so we convert them to numbers\n",
    "\n",
    "from sklearn.feature_extraction.text import CountVectorizer\n",
    "\n",
    "corpus = [\n",
    "    \"I love machine learning\",\n",
    "    \"Machine learning is amazing\",\n",
    "]\n",
    "vectorizer = CountVectorizer()\n",
    "X = vectorizer.fit_transform(corpus)\n",
    "\n",
    "print(vectorizer.get_feature_names_out())  # Vocabulary\n",
    "print(X.toarray())  # Word count matrix\n"
   ]
  },
  {
   "cell_type": "code",
   "execution_count": 457,
   "id": "fa648f5a",
   "metadata": {},
   "outputs": [
    {
     "name": "stdout",
     "output_type": "stream",
     "text": [
      "['amazing' 'is' 'learning' 'love' 'machine']\n"
     ]
    },
    {
     "data": {
      "text/plain": [
       "array([[0.        , 0.        , 0.50154891, 0.70490949, 0.50154891],\n",
       "       [0.57615236, 0.57615236, 0.40993715, 0.        , 0.40993715]])"
      ]
     },
     "execution_count": 457,
     "metadata": {},
     "output_type": "execute_result"
    }
   ],
   "source": [
    "# TF–IDF Term Frequency – Inverse Document Frequency\n",
    "\n",
    "from sklearn.feature_extraction.text import TfidfVectorizer\n",
    "\n",
    "vectorizer = TfidfVectorizer()\n",
    "X = vectorizer.fit_transform(corpus)\n",
    "\n",
    "print(vectorizer.get_feature_names_out())  # Vocabulary\n",
    "(X.toarray())  # TF-IDF matrix\n"
   ]
  },
  {
   "cell_type": "code",
   "execution_count": null,
   "id": "5f7920f5",
   "metadata": {},
   "outputs": [
    {
     "data": {
      "text/html": [
       "<div>\n",
       "<style scoped>\n",
       "    .dataframe tbody tr th:only-of-type {\n",
       "        vertical-align: middle;\n",
       "    }\n",
       "\n",
       "    .dataframe tbody tr th {\n",
       "        vertical-align: top;\n",
       "    }\n",
       "\n",
       "    .dataframe thead th {\n",
       "        text-align: right;\n",
       "    }\n",
       "</style>\n",
       "<table border=\"1\" class=\"dataframe\">\n",
       "  <thead>\n",
       "    <tr style=\"text-align: right;\">\n",
       "      <th></th>\n",
       "      <th>age</th>\n",
       "      <th>Salary</th>\n",
       "    </tr>\n",
       "  </thead>\n",
       "  <tbody>\n",
       "    <tr>\n",
       "      <th>0</th>\n",
       "      <td>14</td>\n",
       "      <td>2000</td>\n",
       "    </tr>\n",
       "    <tr>\n",
       "      <th>1</th>\n",
       "      <td>15</td>\n",
       "      <td>300</td>\n",
       "    </tr>\n",
       "    <tr>\n",
       "      <th>2</th>\n",
       "      <td>17</td>\n",
       "      <td>400</td>\n",
       "    </tr>\n",
       "    <tr>\n",
       "      <th>3</th>\n",
       "      <td>19</td>\n",
       "      <td>500</td>\n",
       "    </tr>\n",
       "  </tbody>\n",
       "</table>\n",
       "</div>"
      ],
      "text/plain": [
       "   age  Salary\n",
       "0   14    2000\n",
       "1   15     300\n",
       "2   17     400\n",
       "3   19     500"
      ]
     },
     "execution_count": 461,
     "metadata": {},
     "output_type": "execute_result"
    }
   ],
   "source": [
    "# Normalization & Standardization\n",
    "import pandas as pd\n",
    "\n",
    "df = pd.DataFrame({\n",
    "    'age':[14,15,17,19],\n",
    "    'Salary':[2000,300,400,500]\n",
    "})\n",
    "\n",
    "df"
   ]
  },
  {
   "cell_type": "code",
   "execution_count": 464,
   "id": "9d8e8d12",
   "metadata": {},
   "outputs": [
    {
     "name": "stdout",
     "output_type": "stream",
     "text": [
      "df_normalized\n"
     ]
    },
    {
     "data": {
      "text/html": [
       "<div>\n",
       "<style scoped>\n",
       "    .dataframe tbody tr th:only-of-type {\n",
       "        vertical-align: middle;\n",
       "    }\n",
       "\n",
       "    .dataframe tbody tr th {\n",
       "        vertical-align: top;\n",
       "    }\n",
       "\n",
       "    .dataframe thead th {\n",
       "        text-align: right;\n",
       "    }\n",
       "</style>\n",
       "<table border=\"1\" class=\"dataframe\">\n",
       "  <thead>\n",
       "    <tr style=\"text-align: right;\">\n",
       "      <th></th>\n",
       "      <th>age</th>\n",
       "      <th>Salary</th>\n",
       "    </tr>\n",
       "  </thead>\n",
       "  <tbody>\n",
       "    <tr>\n",
       "      <th>0</th>\n",
       "      <td>0.0</td>\n",
       "      <td>1.000000</td>\n",
       "    </tr>\n",
       "    <tr>\n",
       "      <th>1</th>\n",
       "      <td>0.2</td>\n",
       "      <td>0.000000</td>\n",
       "    </tr>\n",
       "    <tr>\n",
       "      <th>2</th>\n",
       "      <td>0.6</td>\n",
       "      <td>0.058824</td>\n",
       "    </tr>\n",
       "    <tr>\n",
       "      <th>3</th>\n",
       "      <td>1.0</td>\n",
       "      <td>0.117647</td>\n",
       "    </tr>\n",
       "  </tbody>\n",
       "</table>\n",
       "</div>"
      ],
      "text/plain": [
       "   age    Salary\n",
       "0  0.0  1.000000\n",
       "1  0.2  0.000000\n",
       "2  0.6  0.058824\n",
       "3  1.0  0.117647"
      ]
     },
     "execution_count": 464,
     "metadata": {},
     "output_type": "execute_result"
    }
   ],
   "source": [
    "# Apply Normalization Min-Max Scaling:\n",
    "\n",
    "from sklearn.preprocessing import MinMaxScaler\n",
    "\n",
    "scaler = MinMaxScaler()\n",
    "df_normalized = pd.DataFrame(scaler.fit_transform(df), columns=df.columns)\n",
    "\n",
    "print('df_normalized')\n",
    "df_normalized\n"
   ]
  },
  {
   "cell_type": "code",
   "execution_count": 465,
   "id": "d4406af9",
   "metadata": {},
   "outputs": [
    {
     "data": {
      "text/html": [
       "<div>\n",
       "<style scoped>\n",
       "    .dataframe tbody tr th:only-of-type {\n",
       "        vertical-align: middle;\n",
       "    }\n",
       "\n",
       "    .dataframe tbody tr th {\n",
       "        vertical-align: top;\n",
       "    }\n",
       "\n",
       "    .dataframe thead th {\n",
       "        text-align: right;\n",
       "    }\n",
       "</style>\n",
       "<table border=\"1\" class=\"dataframe\">\n",
       "  <thead>\n",
       "    <tr style=\"text-align: right;\">\n",
       "      <th></th>\n",
       "      <th>age</th>\n",
       "      <th>Salary</th>\n",
       "    </tr>\n",
       "  </thead>\n",
       "  <tbody>\n",
       "    <tr>\n",
       "      <th>0</th>\n",
       "      <td>-1.171700</td>\n",
       "      <td>1.723100</td>\n",
       "    </tr>\n",
       "    <tr>\n",
       "      <th>1</th>\n",
       "      <td>-0.650945</td>\n",
       "      <td>-0.717958</td>\n",
       "    </tr>\n",
       "    <tr>\n",
       "      <th>2</th>\n",
       "      <td>0.390567</td>\n",
       "      <td>-0.574367</td>\n",
       "    </tr>\n",
       "    <tr>\n",
       "      <th>3</th>\n",
       "      <td>1.432078</td>\n",
       "      <td>-0.430775</td>\n",
       "    </tr>\n",
       "  </tbody>\n",
       "</table>\n",
       "</div>"
      ],
      "text/plain": [
       "        age    Salary\n",
       "0 -1.171700  1.723100\n",
       "1 -0.650945 -0.717958\n",
       "2  0.390567 -0.574367\n",
       "3  1.432078 -0.430775"
      ]
     },
     "execution_count": 465,
     "metadata": {},
     "output_type": "execute_result"
    }
   ],
   "source": [
    "# Standardization (Z-score Scaling)\n",
    "\n",
    "from sklearn.preprocessing import StandardScaler\n",
    "\n",
    "scaler = StandardScaler()\n",
    "df_standardized = pd.DataFrame(scaler.fit_transform(df), columns=df.columns)\n",
    "\n",
    "df_standardized"
   ]
  },
  {
   "cell_type": "markdown",
   "id": "b0b17548",
   "metadata": {},
   "source": [
    "Key Notes\n",
    "\n",
    "Normalization → useful when you need values between [0,1] (like images, distances).\n",
    "\n",
    "Standardization → useful when algorithm assumes Gaussian distribution (SVM, Logistic Regression, PCA)."
   ]
  },
  {
   "cell_type": "code",
   "execution_count": 482,
   "id": "3ab467f1",
   "metadata": {},
   "outputs": [
    {
     "name": "stdout",
     "output_type": "stream",
     "text": [
      "Original Data:\n",
      "      Name  Age  Salary\n",
      "0     Ali   23   50000\n",
      "1     Ali   34   20000\n",
      "2  Aliyan   23   40000\n",
      "3  Aliyan  120   70000\n",
      "4  Sumera  222   60000 \n",
      "\n",
      "After Removing Duplicates:\n",
      "      Name  Age  Salary\n",
      "0     Ali   23   50000\n",
      "1     Ali   34   20000\n",
      "2  Aliyan   23   40000\n",
      "3  Aliyan  120   70000\n",
      "4  Sumera  222   60000 \n",
      "\n"
     ]
    }
   ],
   "source": [
    "import pandas as pd\n",
    "\n",
    "# Sample dataset\n",
    "data = {\n",
    "    'Name': ['Ali', 'Ali', 'Aliyan','Aliyan','Sumera'],\n",
    "    'Age': [23, 34, 23, 120, 222],\n",
    "    'Salary':[50000, 20000, 40000, 70000, 60000]\n",
    "}\n",
    "\n",
    "df = pd.DataFrame(data)\n",
    "print(\"Original Data:\\n\", df, \"\\n\")\n",
    "\n",
    "# Remove duplicates\n",
    "df = df.drop_duplicates()\n",
    "print(\"After Removing Duplicates:\\n\", df, \"\\n\")\n"
   ]
  },
  {
   "cell_type": "code",
   "execution_count": null,
   "id": "d831f6ed",
   "metadata": {},
   "outputs": [
    {
     "name": "stdout",
     "output_type": "stream",
     "text": [
      "     Name  Age  Salary\n",
      "0     Ali   23   50000\n",
      "1     Ali   34   20000\n",
      "2  Aliyan   23   40000\n",
      "3  Aliyan  120   70000\n",
      "4  Sumera  222   60000\n"
     ]
    }
   ],
   "source": [
    "# Using Z-Score for outliers\n",
    "from scipy import stats\n",
    "\n",
    "df_zscore = df[(stats.zscore(df['Age']) < 3)]  # remove values 3 std dev away\n",
    "print(df_zscore)"
   ]
  },
  {
   "cell_type": "markdown",
   "id": "16cca4dd",
   "metadata": {},
   "source": [
    "Key Notes\n",
    "\n",
    "Duplicates can bias your dataset → always remove them.\n",
    "\n",
    "Outliers:\n",
    "\n",
    "Use IQR for small datasets.\n",
    "\n",
    "Use Z-score for normally distributed data.\n",
    "\n",
    "In some cases (fraud detection, anomaly detection) → keep outliers."
   ]
  },
  {
   "cell_type": "code",
   "execution_count": 487,
   "id": "38de7aba",
   "metadata": {},
   "outputs": [
    {
     "data": {
      "text/html": [
       "<div>\n",
       "<style scoped>\n",
       "    .dataframe tbody tr th:only-of-type {\n",
       "        vertical-align: middle;\n",
       "    }\n",
       "\n",
       "    .dataframe tbody tr th {\n",
       "        vertical-align: top;\n",
       "    }\n",
       "\n",
       "    .dataframe thead th {\n",
       "        text-align: right;\n",
       "    }\n",
       "</style>\n",
       "<table border=\"1\" class=\"dataframe\">\n",
       "  <thead>\n",
       "    <tr style=\"text-align: right;\">\n",
       "      <th></th>\n",
       "      <th>Name</th>\n",
       "      <th>City</th>\n",
       "      <th>City_encoded</th>\n",
       "    </tr>\n",
       "  </thead>\n",
       "  <tbody>\n",
       "    <tr>\n",
       "      <th>0</th>\n",
       "      <td>Ali</td>\n",
       "      <td>Lahore</td>\n",
       "      <td>3</td>\n",
       "    </tr>\n",
       "    <tr>\n",
       "      <th>1</th>\n",
       "      <td>Wajid</td>\n",
       "      <td>Karachi</td>\n",
       "      <td>1</td>\n",
       "    </tr>\n",
       "    <tr>\n",
       "      <th>2</th>\n",
       "      <td>sara</td>\n",
       "      <td>Gilgit</td>\n",
       "      <td>0</td>\n",
       "    </tr>\n",
       "    <tr>\n",
       "      <th>3</th>\n",
       "      <td>zara</td>\n",
       "      <td>Kashmir</td>\n",
       "      <td>2</td>\n",
       "    </tr>\n",
       "  </tbody>\n",
       "</table>\n",
       "</div>"
      ],
      "text/plain": [
       "    Name     City  City_encoded\n",
       "0    Ali   Lahore             3\n",
       "1  Wajid  Karachi             1\n",
       "2   sara   Gilgit             0\n",
       "3   zara  Kashmir             2"
      ]
     },
     "execution_count": 487,
     "metadata": {},
     "output_type": "execute_result"
    }
   ],
   "source": [
    "## Encoding categorical data\n",
    "\n",
    "from sklearn.preprocessing import LabelEncoder\n",
    "\n",
    "df = pd.DataFrame({\n",
    "    'Name':['Ali','Wajid','sara','zara'],\n",
    "    'City':['Lahore','Karachi','Gilgit','Kashmir']\n",
    "})\n",
    "\n",
    "# Apply label encoding\n",
    "\n",
    "le = LabelEncoder()\n",
    "df['City_encoded'] = le.fit_transform(df['City'])\n",
    "df"
   ]
  },
  {
   "cell_type": "code",
   "execution_count": 493,
   "id": "ea01161d",
   "metadata": {},
   "outputs": [
    {
     "data": {
      "text/html": [
       "<div>\n",
       "<style scoped>\n",
       "    .dataframe tbody tr th:only-of-type {\n",
       "        vertical-align: middle;\n",
       "    }\n",
       "\n",
       "    .dataframe tbody tr th {\n",
       "        vertical-align: top;\n",
       "    }\n",
       "\n",
       "    .dataframe thead th {\n",
       "        text-align: right;\n",
       "    }\n",
       "</style>\n",
       "<table border=\"1\" class=\"dataframe\">\n",
       "  <thead>\n",
       "    <tr style=\"text-align: right;\">\n",
       "      <th></th>\n",
       "      <th>CITY_Multan</th>\n",
       "      <th>CITY_Pindi</th>\n",
       "    </tr>\n",
       "  </thead>\n",
       "  <tbody>\n",
       "    <tr>\n",
       "      <th>0</th>\n",
       "      <td>1</td>\n",
       "      <td>0</td>\n",
       "    </tr>\n",
       "    <tr>\n",
       "      <th>1</th>\n",
       "      <td>0</td>\n",
       "      <td>0</td>\n",
       "    </tr>\n",
       "    <tr>\n",
       "      <th>2</th>\n",
       "      <td>0</td>\n",
       "      <td>1</td>\n",
       "    </tr>\n",
       "  </tbody>\n",
       "</table>\n",
       "</div>"
      ],
      "text/plain": [
       "   CITY_Multan  CITY_Pindi\n",
       "0            1           0\n",
       "1            0           0\n",
       "2            0           1"
      ]
     },
     "execution_count": 493,
     "metadata": {},
     "output_type": "execute_result"
    }
   ],
   "source": [
    "# One Hot Encoding\n",
    "\n",
    "\n",
    "df = pd.DataFrame({\n",
    "    'CITY':['Multan','Hyderabad','Pindi']\n",
    "})\n",
    "\n",
    "#apply one hot encoding\n",
    "df_encoded=pd.get_dummies(df, columns=['CITY'], drop_first=True)\n",
    "df_encoded = df_encoded.astype(int)\n",
    "df_encoded"
   ]
  },
  {
   "cell_type": "code",
   "execution_count": 494,
   "id": "4087ca27",
   "metadata": {},
   "outputs": [
    {
     "data": {
      "text/html": [
       "<div>\n",
       "<style scoped>\n",
       "    .dataframe tbody tr th:only-of-type {\n",
       "        vertical-align: middle;\n",
       "    }\n",
       "\n",
       "    .dataframe tbody tr th {\n",
       "        vertical-align: top;\n",
       "    }\n",
       "\n",
       "    .dataframe thead th {\n",
       "        text-align: right;\n",
       "    }\n",
       "</style>\n",
       "<table border=\"1\" class=\"dataframe\">\n",
       "  <thead>\n",
       "    <tr style=\"text-align: right;\">\n",
       "      <th></th>\n",
       "      <th>object</th>\n",
       "      <th>object_encoded</th>\n",
       "    </tr>\n",
       "  </thead>\n",
       "  <tbody>\n",
       "    <tr>\n",
       "      <th>0</th>\n",
       "      <td>small</td>\n",
       "      <td>0.0</td>\n",
       "    </tr>\n",
       "    <tr>\n",
       "      <th>1</th>\n",
       "      <td>medium</td>\n",
       "      <td>1.0</td>\n",
       "    </tr>\n",
       "    <tr>\n",
       "      <th>2</th>\n",
       "      <td>large</td>\n",
       "      <td>2.0</td>\n",
       "    </tr>\n",
       "    <tr>\n",
       "      <th>3</th>\n",
       "      <td>small</td>\n",
       "      <td>0.0</td>\n",
       "    </tr>\n",
       "  </tbody>\n",
       "</table>\n",
       "</div>"
      ],
      "text/plain": [
       "   object  object_encoded\n",
       "0   small             0.0\n",
       "1  medium             1.0\n",
       "2   large             2.0\n",
       "3   small             0.0"
      ]
     },
     "execution_count": 494,
     "metadata": {},
     "output_type": "execute_result"
    }
   ],
   "source": [
    "# Ordinal Encoding (when categories have order)\n",
    "\n",
    "from sklearn.preprocessing import OrdinalEncoder\n",
    "\n",
    "df = pd.DataFrame({\n",
    "    'object':['small','medium','large','small']\n",
    "})\n",
    "\n",
    "# define order\n",
    "encoder = OrdinalEncoder(categories=[['small', 'medium','large']])\n",
    "df['object_encoded']=encoder.fit_transform(df[['object']])\n",
    "df"
   ]
  },
  {
   "cell_type": "markdown",
   "id": "51839a67",
   "metadata": {},
   "source": [
    "Summary\n",
    "\n",
    "Label Encoding → For ML models like Decision Trees.\n",
    "\n",
    "One-Hot Encoding → For regression/linear models.\n",
    "\n",
    "Ordinal Encoding → When order matters (e.g., Low < Medium < High)."
   ]
  },
  {
   "cell_type": "code",
   "execution_count": null,
   "id": "d24bf41b",
   "metadata": {},
   "outputs": [
    {
     "data": {
      "text/html": [
       "<div>\n",
       "<style scoped>\n",
       "    .dataframe tbody tr th:only-of-type {\n",
       "        vertical-align: middle;\n",
       "    }\n",
       "\n",
       "    .dataframe tbody tr th {\n",
       "        vertical-align: top;\n",
       "    }\n",
       "\n",
       "    .dataframe thead th {\n",
       "        text-align: right;\n",
       "    }\n",
       "</style>\n",
       "<table border=\"1\" class=\"dataframe\">\n",
       "  <thead>\n",
       "    <tr style=\"text-align: right;\">\n",
       "      <th></th>\n",
       "      <th>Text</th>\n",
       "      <th>Word_Count</th>\n",
       "    </tr>\n",
       "  </thead>\n",
       "  <tbody>\n",
       "    <tr>\n",
       "      <th>0</th>\n",
       "      <td>I love AI and Machine Learning</td>\n",
       "      <td>6</td>\n",
       "    </tr>\n",
       "    <tr>\n",
       "      <th>1</th>\n",
       "      <td>Data Science is powerful</td>\n",
       "      <td>4</td>\n",
       "    </tr>\n",
       "    <tr>\n",
       "      <th>2</th>\n",
       "      <td>Python is great for coding</td>\n",
       "      <td>5</td>\n",
       "    </tr>\n",
       "  </tbody>\n",
       "</table>\n",
       "</div>"
      ],
      "text/plain": [
       "                             Text  Word_Count\n",
       "0  I love AI and Machine Learning           6\n",
       "1        Data Science is powerful           4\n",
       "2      Python is great for coding           5"
      ]
     },
     "execution_count": 497,
     "metadata": {},
     "output_type": "execute_result"
    }
   ],
   "source": [
    "import pandas as pd\n",
    "\n",
    "# Example dataset\n",
    "df = pd.DataFrame({\n",
    "    'Text': [\n",
    "        \"I love AI and Machine Learning\",\n",
    "        \"Data Science is powerful\",\n",
    "        \"Python is great for coding\"\n",
    "    ]\n",
    "})\n",
    "\n",
    "# Add new feature: word count\n",
    "df['Word_Count'] = df['Text'].apply(lambda x: len(x.split()))\n",
    "\n",
    "df\n",
    "\n",
    "# Key note: New feature (Word_Count) is added based on text length."
   ]
  },
  {
   "cell_type": "code",
   "execution_count": 498,
   "id": "f0b08178",
   "metadata": {},
   "outputs": [
    {
     "data": {
      "text/html": [
       "<div>\n",
       "<style scoped>\n",
       "    .dataframe tbody tr th:only-of-type {\n",
       "        vertical-align: middle;\n",
       "    }\n",
       "\n",
       "    .dataframe tbody tr th {\n",
       "        vertical-align: top;\n",
       "    }\n",
       "\n",
       "    .dataframe thead th {\n",
       "        text-align: right;\n",
       "    }\n",
       "</style>\n",
       "<table border=\"1\" class=\"dataframe\">\n",
       "  <thead>\n",
       "    <tr style=\"text-align: right;\">\n",
       "      <th></th>\n",
       "      <th>Date</th>\n",
       "      <th>Year</th>\n",
       "      <th>Month</th>\n",
       "      <th>Day</th>\n",
       "      <th>Weekday</th>\n",
       "    </tr>\n",
       "  </thead>\n",
       "  <tbody>\n",
       "    <tr>\n",
       "      <th>0</th>\n",
       "      <td>2025-01-01</td>\n",
       "      <td>2025</td>\n",
       "      <td>1</td>\n",
       "      <td>1</td>\n",
       "      <td>Wednesday</td>\n",
       "    </tr>\n",
       "    <tr>\n",
       "      <th>1</th>\n",
       "      <td>2025-01-02</td>\n",
       "      <td>2025</td>\n",
       "      <td>1</td>\n",
       "      <td>2</td>\n",
       "      <td>Thursday</td>\n",
       "    </tr>\n",
       "    <tr>\n",
       "      <th>2</th>\n",
       "      <td>2025-01-03</td>\n",
       "      <td>2025</td>\n",
       "      <td>1</td>\n",
       "      <td>3</td>\n",
       "      <td>Friday</td>\n",
       "    </tr>\n",
       "    <tr>\n",
       "      <th>3</th>\n",
       "      <td>2025-01-04</td>\n",
       "      <td>2025</td>\n",
       "      <td>1</td>\n",
       "      <td>4</td>\n",
       "      <td>Saturday</td>\n",
       "    </tr>\n",
       "  </tbody>\n",
       "</table>\n",
       "</div>"
      ],
      "text/plain": [
       "        Date  Year  Month  Day    Weekday\n",
       "0 2025-01-01  2025      1    1  Wednesday\n",
       "1 2025-01-02  2025      1    2   Thursday\n",
       "2 2025-01-03  2025      1    3     Friday\n",
       "3 2025-01-04  2025      1    4   Saturday"
      ]
     },
     "execution_count": 498,
     "metadata": {},
     "output_type": "execute_result"
    }
   ],
   "source": [
    "## Date Parts (Datetime Example)\n",
    "\n",
    "# Example dataset with dates\n",
    "date_rng = pd.date_range(start='2025-01-01', periods=4, freq='D')\n",
    "df = pd.DataFrame({'Date': date_rng})\n",
    "\n",
    "# Extract useful features from date\n",
    "df['Year'] = df['Date'].dt.year\n",
    "df['Month'] = df['Date'].dt.month\n",
    "df['Day'] = df['Date'].dt.day\n",
    "df['Weekday'] = df['Date'].dt.day_name()\n",
    "\n",
    "df"
   ]
  },
  {
   "cell_type": "code",
   "execution_count": null,
   "id": "ba5fb674",
   "metadata": {},
   "outputs": [
    {
     "data": {
      "text/html": [
       "<div>\n",
       "<style scoped>\n",
       "    .dataframe tbody tr th:only-of-type {\n",
       "        vertical-align: middle;\n",
       "    }\n",
       "\n",
       "    .dataframe tbody tr th {\n",
       "        vertical-align: top;\n",
       "    }\n",
       "\n",
       "    .dataframe thead th {\n",
       "        text-align: right;\n",
       "    }\n",
       "</style>\n",
       "<table border=\"1\" class=\"dataframe\">\n",
       "  <thead>\n",
       "    <tr style=\"text-align: right;\">\n",
       "      <th></th>\n",
       "      <th>Age</th>\n",
       "      <th>Salary</th>\n",
       "      <th>Salary_per_Age</th>\n",
       "    </tr>\n",
       "  </thead>\n",
       "  <tbody>\n",
       "    <tr>\n",
       "      <th>0</th>\n",
       "      <td>25</td>\n",
       "      <td>50000</td>\n",
       "      <td>2000.000000</td>\n",
       "    </tr>\n",
       "    <tr>\n",
       "      <th>1</th>\n",
       "      <td>30</td>\n",
       "      <td>60000</td>\n",
       "      <td>2000.000000</td>\n",
       "    </tr>\n",
       "    <tr>\n",
       "      <th>2</th>\n",
       "      <td>35</td>\n",
       "      <td>75000</td>\n",
       "      <td>2142.857143</td>\n",
       "    </tr>\n",
       "  </tbody>\n",
       "</table>\n",
       "</div>"
      ],
      "text/plain": [
       "   Age  Salary  Salary_per_Age\n",
       "0   25   50000     2000.000000\n",
       "1   30   60000     2000.000000\n",
       "2   35   75000     2142.857143"
      ]
     },
     "execution_count": 502,
     "metadata": {},
     "output_type": "execute_result"
    }
   ],
   "source": [
    "# Combine Features\n",
    "\n",
    "# Salary per year of age (synthetic feature)\n",
    "df2 = pd.DataFrame({\n",
    "    'Age': [25, 30, 35],\n",
    "    'Salary': [50000, 60000, 75000]\n",
    "})\n",
    "\n",
    "df2['Salary_per_Age'] = df2['Salary'] / df2['Age']\n",
    "df2\n",
    "\n",
    "# Created a new feature (Salary_per_Age) by combining columns."
   ]
  },
  {
   "cell_type": "markdown",
   "id": "335d94e5",
   "metadata": {},
   "source": [
    "Summary of Feature Engineering Examples:\n",
    "\n",
    "Text Features → Word count, character count, keyword presence.\n",
    "\n",
    "Date Features → Year, month, day, weekday, quarter.\n",
    "\n",
    "Numeric Features → Ratios, differences, combinations (e.g., salary per age)"
   ]
  },
  {
   "cell_type": "code",
   "execution_count": 503,
   "id": "c8554b1c",
   "metadata": {},
   "outputs": [
    {
     "name": "stdout",
     "output_type": "stream",
     "text": [
      "   ID   Name\n",
      "0   1    Ali\n",
      "1   2  Wajid\n",
      "2   3  Karim\n",
      "0   3   Wali\n",
      "1   4  Atish\n"
     ]
    }
   ],
   "source": [
    "# Merging Datasets\n",
    "# Note...\n",
    "\"\"\"When working with real-world data,\n",
    "we often have multiple datasets that need to be combined into one for analysis or modeling. \n",
    "Pandas provides powerful functions for this: concat, merge, and join\"\"\"\n",
    "\n",
    "import pandas as pd\n",
    "\n",
    "df1 = pd.DataFrame({\n",
    "    'ID': [1,2,3],\n",
    "    'Name':['Ali','Wajid','Karim']\n",
    "})\n",
    "\n",
    "df2 = pd.DataFrame({\n",
    "    'ID':[3,4],\n",
    "    'Name':['Wali','Atish']\n",
    "})\n",
    "\n",
    "# Combine \n",
    "df_concat = pd.concat([df1,df2], axis=0)\n",
    "print(df_concat)"
   ]
  },
  {
   "cell_type": "code",
   "execution_count": 504,
   "id": "aa01ea2e",
   "metadata": {},
   "outputs": [
    {
     "name": "stdout",
     "output_type": "stream",
     "text": [
      "Saved Merge dataset to Merge_data.csv\n"
     ]
    }
   ],
   "source": [
    "# To save after merging \n",
    "df_concat.to_csv('Merge_dataset.csv', index=False)\n",
    "print('Saved Merge dataset to Merge_data.csv')"
   ]
  },
  {
   "cell_type": "code",
   "execution_count": null,
   "id": "75bfc6c1",
   "metadata": {},
   "outputs": [],
   "source": []
  }
 ],
 "metadata": {
  "kernelspec": {
   "display_name": "ccc (3.10.11)",
   "language": "python",
   "name": "python3"
  },
  "language_info": {
   "codemirror_mode": {
    "name": "ipython",
    "version": 3
   },
   "file_extension": ".py",
   "mimetype": "text/x-python",
   "name": "python",
   "nbconvert_exporter": "python",
   "pygments_lexer": "ipython3",
   "version": "3.10.11"
  }
 },
 "nbformat": 4,
 "nbformat_minor": 5
}
